{
 "cells": [
  {
   "cell_type": "markdown",
   "metadata": {},
   "source": [
    "# Working with ESS-DIVE in CurateGPT"
   ]
  },
  {
   "cell_type": "markdown",
   "metadata": {},
   "source": [
    "CurateGPT supports searching [ESS-DIVE](https://ess-dive.lbl.gov/) data (and specifically, [ESS-DeepDive](https://fusion.ess-dive.lbl.gov/)) with a variety of interfaces. This notebook demonstrates some of them."
   ]
  },
  {
   "cell_type": "markdown",
   "metadata": {},
   "source": [
    "## Setup"
   ]
  },
  {
   "cell_type": "markdown",
   "metadata": {},
   "source": [
    "First, install CurateGPT as described in its [README](https://github.com/monarch-initiative/curategpt/blob/main/README.md).\n",
    "\n",
    "For ease of use, install with Poetry (clone the repository, navigate to it, and run `poetry install`).\n",
    "\n",
    "You will need to provide a key to an LLM API or set up a local model. See the README for more details."
   ]
  },
  {
   "cell_type": "markdown",
   "metadata": {},
   "source": [
    "Start up the GUI with `make app`.\n",
    "\n",
    "By default, this will run on <http://localhost:8501>."
   ]
  },
  {
   "cell_type": "markdown",
   "metadata": {},
   "source": []
  },
  {
   "cell_type": "markdown",
   "metadata": {},
   "source": []
  }
 ],
 "metadata": {
  "language_info": {
   "name": "python"
  }
 },
 "nbformat": 4,
 "nbformat_minor": 2
}
